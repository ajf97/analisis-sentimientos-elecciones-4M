{
 "metadata": {
  "language_info": {
   "codemirror_mode": {
    "name": "ipython",
    "version": 3
   },
   "file_extension": ".py",
   "mimetype": "text/x-python",
   "name": "python",
   "nbconvert_exporter": "python",
   "pygments_lexer": "ipython3",
   "version": "3.8.10"
  },
  "orig_nbformat": 2,
  "kernelspec": {
   "name": "python3810jvsc74a57bd06a3388887e95ed77c37a95914847fd163457844092d106ce57d15b1680d35f8b",
   "display_name": "Python 3.8.10 64-bit ('base': conda)"
  }
 },
 "nbformat": 4,
 "nbformat_minor": 2,
 "cells": [
  {
   "source": [
    "<img src=\"images/banner.jpg\">\n",
    "\n",
    "<center><h1>Análisis de sentimientos de las elecciones a la Asamblea de Madrid 2021</h1></center>\n",
    "\n"
   ],
   "cell_type": "markdown",
   "metadata": {}
  },
  {
   "source": [
    "## Introducción\n",
    "\n",
    "El pasado martes 4 de mayo se celebraban las elecciones a la Asamblea de Madrid 2021. Estas elecciones son de alguna forma excepcionales y polémicas desde el mismo instante de su convocatoria. Esto se debe a la pandemia y a la polarización política de los últimos años en España. Así pues, se han saldado con la victoria de los partidos derecha y la derrota de la izquierda, obligando a dos de los principales candidatos a abandonar la política. También hemos asistido a la desaparición del partido Ciudadanos de la Asamblea, empeorando aún más su crisis como partido. \n",
    "\n",
    "Por si fuera poco, la campaña electoral se desarrolló bajo un clima de mucha tensión, ya que algunos políticos del país recibieron sobres con balas. En las redes sociales, esta polarización se manifiesta más. Es frecuente ver insultos y descalificaciones en la mayoría de los mensajes.\n",
    "\n",
    "Las elecciones de Madrid pueden afectar de alguna forma a elecciones futuras. Por tanto, es interesante analizar los sentimientos de los usuarios en redes —en este caso Twitter— con el objetivo de ver cómo se desarrolla esta polarización en todo el país.\n",
    "\n",
    "### 🟢 Objetivo:\n",
    "\n",
    "> Realizar un análisis de sentimientos en Twitter para ver el desarrollo de la polarización en España.\n",
    "\n",
    "### 📚 Librerías\n",
    "\n",
    "Para conseguir nuestro objetivo, necesitamos las siguientes librerías:\n",
    "\n",
    "* **Tweepy**: la usaremos para descargar los tweets utilizando la API de Twitter.\n",
    "* **Pandas**: librería para el análisis de los datos."
   ],
   "cell_type": "markdown",
   "metadata": {}
  },
  {
   "cell_type": "code",
   "execution_count": 2,
   "metadata": {},
   "outputs": [],
   "source": [
    "import pandas as pd"
   ]
  },
  {
   "source": [
    "## TODO: Extracción de tweets"
   ],
   "cell_type": "markdown",
   "metadata": {}
  },
  {
   "source": [
    "## 🧹 Limpieza de datos\n",
    "\n",
    "Una vez extraídos los tweets en un archivo CSV, el siguiente paso consiste en eliminar aquellos datos que no son importantes para el análisis. Para ello, vamos a usar la librería `Pandas`, que nos permitirá gestionar los tweets en tablas llamadas *Dataframes*."
   ],
   "cell_type": "markdown",
   "metadata": {}
  },
  {
   "cell_type": "code",
   "execution_count": 3,
   "metadata": {},
   "outputs": [
    {
     "output_type": "execute_result",
     "data": {
      "text/plain": [
       "                                              Tweets  len  \\\n",
       "0  RT @vox_es: ‼ @Santi_ABASCAL \"Son unos buenos ...  139   \n",
       "1  RT @mtgarcia82: Que gane el PP en un barrio ob...  140   \n",
       "2  RT @elsitacabello: Ahora sí, lo puedo decir, m...  100   \n",
       "3  RT @YTanRicamente: Esta casa apoya a @Yolanda_...  140   \n",
       "4  RT @Juanmi_News: Qué asco tener que ver que lo...  138   \n",
       "\n",
       "                    ID                 Date               Source  Likes  RTs  \n",
       "0  1389716466304491522  2021-05-04 22:59:59   Twitter for iPhone      0    0  \n",
       "1  1389716466195472388  2021-05-04 22:59:59  Twitter for Android      0    0  \n",
       "2  1389716465390080002  2021-05-04 22:59:59  Twitter for Android      0    0  \n",
       "3  1389716465205583877  2021-05-04 22:59:59      Twitter Web App      0    0  \n",
       "4  1389716462936412164  2021-05-04 22:59:59  Twitter for Android      0    0  "
      ],
      "text/html": "<div>\n<style scoped>\n    .dataframe tbody tr th:only-of-type {\n        vertical-align: middle;\n    }\n\n    .dataframe tbody tr th {\n        vertical-align: top;\n    }\n\n    .dataframe thead th {\n        text-align: right;\n    }\n</style>\n<table border=\"1\" class=\"dataframe\">\n  <thead>\n    <tr style=\"text-align: right;\">\n      <th></th>\n      <th>Tweets</th>\n      <th>len</th>\n      <th>ID</th>\n      <th>Date</th>\n      <th>Source</th>\n      <th>Likes</th>\n      <th>RTs</th>\n    </tr>\n  </thead>\n  <tbody>\n    <tr>\n      <th>0</th>\n      <td>RT @vox_es: ‼ @Santi_ABASCAL \"Son unos buenos ...</td>\n      <td>139</td>\n      <td>1389716466304491522</td>\n      <td>2021-05-04 22:59:59</td>\n      <td>Twitter for iPhone</td>\n      <td>0</td>\n      <td>0</td>\n    </tr>\n    <tr>\n      <th>1</th>\n      <td>RT @mtgarcia82: Que gane el PP en un barrio ob...</td>\n      <td>140</td>\n      <td>1389716466195472388</td>\n      <td>2021-05-04 22:59:59</td>\n      <td>Twitter for Android</td>\n      <td>0</td>\n      <td>0</td>\n    </tr>\n    <tr>\n      <th>2</th>\n      <td>RT @elsitacabello: Ahora sí, lo puedo decir, m...</td>\n      <td>100</td>\n      <td>1389716465390080002</td>\n      <td>2021-05-04 22:59:59</td>\n      <td>Twitter for Android</td>\n      <td>0</td>\n      <td>0</td>\n    </tr>\n    <tr>\n      <th>3</th>\n      <td>RT @YTanRicamente: Esta casa apoya a @Yolanda_...</td>\n      <td>140</td>\n      <td>1389716465205583877</td>\n      <td>2021-05-04 22:59:59</td>\n      <td>Twitter Web App</td>\n      <td>0</td>\n      <td>0</td>\n    </tr>\n    <tr>\n      <th>4</th>\n      <td>RT @Juanmi_News: Qué asco tener que ver que lo...</td>\n      <td>138</td>\n      <td>1389716462936412164</td>\n      <td>2021-05-04 22:59:59</td>\n      <td>Twitter for Android</td>\n      <td>0</td>\n      <td>0</td>\n    </tr>\n  </tbody>\n</table>\n</div>"
     },
     "metadata": {},
     "execution_count": 3
    }
   ],
   "source": [
    "# Importamos los datos a un Dataframe\n",
    "data = pd.read_csv('data.csv', index_col='ID')\n",
    "\n",
    "data.head()"
   ]
  },
  {
   "source": [
    "A continuación, vamos a hacer un análisis exploratorio para ver los datos que disponemos. Comprobaremos también si tenemos datos nulos y duplicados."
   ],
   "cell_type": "markdown",
   "metadata": {}
  },
  {
   "cell_type": "code",
   "execution_count": 4,
   "metadata": {},
   "outputs": [
    {
     "output_type": "execute_result",
     "data": {
      "text/plain": [
       "(1000, 7)"
      ]
     },
     "metadata": {},
     "execution_count": 4
    }
   ],
   "source": [
    "# Mostramos las filas y columnas del dataframe\n",
    "data.shape"
   ]
  },
  {
   "cell_type": "code",
   "execution_count": 5,
   "metadata": {},
   "outputs": [
    {
     "output_type": "execute_result",
     "data": {
      "text/plain": [
       "0"
      ]
     },
     "metadata": {},
     "execution_count": 5
    }
   ],
   "source": [
    "# Comprobamos si existen tweets duplicados\n",
    "data.duplicated(subset='ID').sum()"
   ]
  },
  {
   "cell_type": "code",
   "execution_count": 6,
   "metadata": {},
   "outputs": [
    {
     "output_type": "execute_result",
     "data": {
      "text/plain": [
       "Tweets    False\n",
       "len       False\n",
       "ID        False\n",
       "Date      False\n",
       "Source    False\n",
       "Likes     False\n",
       "RTs       False\n",
       "dtype: bool"
      ]
     },
     "metadata": {},
     "execution_count": 6
    }
   ],
   "source": [
    "# Comprobamos valores nulos\n",
    "data.isna().any()"
   ]
  },
  {
   "cell_type": "code",
   "execution_count": null,
   "metadata": {},
   "outputs": [],
   "source": []
  }
 ]
}
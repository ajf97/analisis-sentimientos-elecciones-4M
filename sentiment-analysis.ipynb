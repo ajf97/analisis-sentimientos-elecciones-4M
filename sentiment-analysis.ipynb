{
 "metadata": {
  "language_info": {
   "codemirror_mode": {
    "name": "ipython",
    "version": 3
   },
   "file_extension": ".py",
   "mimetype": "text/x-python",
   "name": "python",
   "nbconvert_exporter": "python",
   "pygments_lexer": "ipython3",
   "version": "3.9.2"
  },
  "orig_nbformat": 2,
  "kernelspec": {
   "name": "python392jvsc74a57bd0620b2fa90dc9b2fb688a3a3e2c97011e484a5e8259758da9864b56479bd858b5",
   "display_name": "Python 3.9.2 64-bit ('twitter': conda)"
  }
 },
 "nbformat": 4,
 "nbformat_minor": 2,
 "cells": [
  {
   "source": [
    "<center><img src=\"images/banner.jpg\"></center>\n",
    "\n",
    "<center><h1>Análisis de sentimientos de las elecciones a la Asamblea de Madrid 2021</h1></center>\n",
    "\n"
   ],
   "cell_type": "markdown",
   "metadata": {}
  },
  {
   "source": [
    "## Introducción\n",
    "\n",
    "El pasado martes 4 de mayo se celebraban las elecciones a la Asamblea de Madrid 2021. Estas elecciones son de alguna forma excepcionales y polémicas desde el mismo instante de su convocatoria. Esto se debe a la pandemia y a la polarización política de los últimos años en España. Así pues, se han saldado con la victoria de los partidos derecha y la derrota de la izquierda, obligando a dos de los principales candidatos a abandonar la política. También hemos asistido a la desaparición del partido Ciudadanos de la Asamblea, empeorando aún más su crisis como partido. \n",
    "\n",
    "Por si fuera poco, la campaña electoral se desarrolló bajo un clima de mucha tensión, ya que algunos políticos del país recibieron sobres con balas. En las redes sociales, esta polarización se manifiesta más. Es frecuente ver insultos y descalificaciones en la mayoría de los mensajes.\n",
    "\n",
    "Las elecciones de Madrid pueden afectar de alguna forma a elecciones futuras. Por tanto, es interesante analizar los sentimientos de los usuarios en redes —en este caso Twitter— con el objetivo de ver cómo se desarrolla esta polarización en todo el país.\n",
    "\n",
    "### 🟢 Objetivo:\n",
    "\n",
    "> Realizar un análisis de sentimientos en Twitter para ver el desarrollo de la polarización en España.\n",
    "\n",
    "### 📚 Librerías\n",
    "\n",
    "Para conseguir nuestro objetivo, necesitamos las siguientes librerías:\n",
    "\n",
    "* **Tweepy**: la usaremos para descargar los tweets utilizando la API de Twitter.\n",
    "* **Pandas**: librería para el análisis de los datos."
   ],
   "cell_type": "markdown",
   "metadata": {}
  },
  {
   "cell_type": "code",
   "execution_count": 19,
   "metadata": {},
   "outputs": [],
   "source": [
    "import pandas as pd"
   ]
  },
  {
   "source": [
    "## TODO: Extracción de tweets"
   ],
   "cell_type": "markdown",
   "metadata": {}
  },
  {
   "source": [
    "## 🧹 Limpieza de datos\n",
    "\n",
    "Una vez extraídos los tweets en un archivo CSV, el siguiente paso consiste en eliminar aquellos datos que no son importantes para el análisis. Para ello, vamos a usar la librería `Pandas`, que nos permitirá gestionar los tweets en tablas llamadas *Dataframes*."
   ],
   "cell_type": "markdown",
   "metadata": {}
  },
  {
   "cell_type": "code",
   "execution_count": 20,
   "metadata": {},
   "outputs": [
    {
     "output_type": "execute_result",
     "data": {
      "text/plain": [
       "                                                                Tweets  len  \\\n",
       "ID                                                                            \n",
       "1389716466304491522  RT @vox_es: ‼ @Santi_ABASCAL \"Son unos buenos ...  139   \n",
       "1389716466195472388  RT @mtgarcia82: Que gane el PP en un barrio ob...  140   \n",
       "1389716465390080002  RT @elsitacabello: Ahora sí, lo puedo decir, m...  100   \n",
       "1389716465205583877  RT @YTanRicamente: Esta casa apoya a @Yolanda_...  140   \n",
       "1389716462936412164  RT @Juanmi_News: Qué asco tener que ver que lo...  138   \n",
       "\n",
       "                                    Date               Source  Likes  RTs  \n",
       "ID                                                                         \n",
       "1389716466304491522  2021-05-04 22:59:59   Twitter for iPhone      0    0  \n",
       "1389716466195472388  2021-05-04 22:59:59  Twitter for Android      0    0  \n",
       "1389716465390080002  2021-05-04 22:59:59  Twitter for Android      0    0  \n",
       "1389716465205583877  2021-05-04 22:59:59      Twitter Web App      0    0  \n",
       "1389716462936412164  2021-05-04 22:59:59  Twitter for Android      0    0  "
      ],
      "text/html": "<div>\n<style scoped>\n    .dataframe tbody tr th:only-of-type {\n        vertical-align: middle;\n    }\n\n    .dataframe tbody tr th {\n        vertical-align: top;\n    }\n\n    .dataframe thead th {\n        text-align: right;\n    }\n</style>\n<table border=\"1\" class=\"dataframe\">\n  <thead>\n    <tr style=\"text-align: right;\">\n      <th></th>\n      <th>Tweets</th>\n      <th>len</th>\n      <th>Date</th>\n      <th>Source</th>\n      <th>Likes</th>\n      <th>RTs</th>\n    </tr>\n    <tr>\n      <th>ID</th>\n      <th></th>\n      <th></th>\n      <th></th>\n      <th></th>\n      <th></th>\n      <th></th>\n    </tr>\n  </thead>\n  <tbody>\n    <tr>\n      <th>1389716466304491522</th>\n      <td>RT @vox_es: ‼ @Santi_ABASCAL \"Son unos buenos ...</td>\n      <td>139</td>\n      <td>2021-05-04 22:59:59</td>\n      <td>Twitter for iPhone</td>\n      <td>0</td>\n      <td>0</td>\n    </tr>\n    <tr>\n      <th>1389716466195472388</th>\n      <td>RT @mtgarcia82: Que gane el PP en un barrio ob...</td>\n      <td>140</td>\n      <td>2021-05-04 22:59:59</td>\n      <td>Twitter for Android</td>\n      <td>0</td>\n      <td>0</td>\n    </tr>\n    <tr>\n      <th>1389716465390080002</th>\n      <td>RT @elsitacabello: Ahora sí, lo puedo decir, m...</td>\n      <td>100</td>\n      <td>2021-05-04 22:59:59</td>\n      <td>Twitter for Android</td>\n      <td>0</td>\n      <td>0</td>\n    </tr>\n    <tr>\n      <th>1389716465205583877</th>\n      <td>RT @YTanRicamente: Esta casa apoya a @Yolanda_...</td>\n      <td>140</td>\n      <td>2021-05-04 22:59:59</td>\n      <td>Twitter Web App</td>\n      <td>0</td>\n      <td>0</td>\n    </tr>\n    <tr>\n      <th>1389716462936412164</th>\n      <td>RT @Juanmi_News: Qué asco tener que ver que lo...</td>\n      <td>138</td>\n      <td>2021-05-04 22:59:59</td>\n      <td>Twitter for Android</td>\n      <td>0</td>\n      <td>0</td>\n    </tr>\n  </tbody>\n</table>\n</div>"
     },
     "metadata": {},
     "execution_count": 20
    }
   ],
   "source": [
    "# Importamos los datos a un Dataframe\n",
    "data = pd.read_csv('data.csv', index_col='ID')\n",
    "\n",
    "data.head()"
   ]
  },
  {
   "source": [
    "A continuación, vamos a hacer un análisis exploratorio para ver los datos que disponemos. Comprobaremos también si tenemos datos nulos y duplicados."
   ],
   "cell_type": "markdown",
   "metadata": {}
  },
  {
   "cell_type": "code",
   "execution_count": 21,
   "metadata": {},
   "outputs": [
    {
     "output_type": "execute_result",
     "data": {
      "text/plain": [
       "(1000, 6)"
      ]
     },
     "metadata": {},
     "execution_count": 21
    }
   ],
   "source": [
    "# Mostramos las filas y columnas del dataframe\n",
    "data.shape"
   ]
  },
  {
   "cell_type": "code",
   "execution_count": 22,
   "metadata": {},
   "outputs": [
    {
     "output_type": "execute_result",
     "data": {
      "text/plain": [
       "Tweets    False\n",
       "len       False\n",
       "Date      False\n",
       "Source    False\n",
       "Likes     False\n",
       "RTs       False\n",
       "dtype: bool"
      ]
     },
     "metadata": {},
     "execution_count": 22
    }
   ],
   "source": [
    "# Comprobamos valores nulos\n",
    "data.isna().any()"
   ]
  },
  {
   "cell_type": "code",
   "execution_count": 23,
   "metadata": {},
   "outputs": [
    {
     "output_type": "execute_result",
     "data": {
      "text/plain": [
       "                                                                Tweets  len  \\\n",
       "ID                                                                            \n",
       "1389716466304491522   ‼ @Santi_ABASCAL \"Son unos buenos resultados ...  139   \n",
       "1389716466195472388   Que gane el PP en un barrio obrero y pendient...  140   \n",
       "1389716465390080002   Ahora sí, lo puedo decir, meteros los aplauso...  100   \n",
       "1389716465205583877   Esta casa apoya a @Yolanda_Diaz_, encargada d...  140   \n",
       "1389716462936412164   Qué asco tener que ver que los que pisotean e...  138   \n",
       "\n",
       "                                    Date               Source  Likes  RTs  \n",
       "ID                                                                         \n",
       "1389716466304491522  2021-05-04 22:59:59   Twitter for iPhone      0    0  \n",
       "1389716466195472388  2021-05-04 22:59:59  Twitter for Android      0    0  \n",
       "1389716465390080002  2021-05-04 22:59:59  Twitter for Android      0    0  \n",
       "1389716465205583877  2021-05-04 22:59:59      Twitter Web App      0    0  \n",
       "1389716462936412164  2021-05-04 22:59:59  Twitter for Android      0    0  "
      ],
      "text/html": "<div>\n<style scoped>\n    .dataframe tbody tr th:only-of-type {\n        vertical-align: middle;\n    }\n\n    .dataframe tbody tr th {\n        vertical-align: top;\n    }\n\n    .dataframe thead th {\n        text-align: right;\n    }\n</style>\n<table border=\"1\" class=\"dataframe\">\n  <thead>\n    <tr style=\"text-align: right;\">\n      <th></th>\n      <th>Tweets</th>\n      <th>len</th>\n      <th>Date</th>\n      <th>Source</th>\n      <th>Likes</th>\n      <th>RTs</th>\n    </tr>\n    <tr>\n      <th>ID</th>\n      <th></th>\n      <th></th>\n      <th></th>\n      <th></th>\n      <th></th>\n      <th></th>\n    </tr>\n  </thead>\n  <tbody>\n    <tr>\n      <th>1389716466304491522</th>\n      <td>‼ @Santi_ABASCAL \"Son unos buenos resultados ...</td>\n      <td>139</td>\n      <td>2021-05-04 22:59:59</td>\n      <td>Twitter for iPhone</td>\n      <td>0</td>\n      <td>0</td>\n    </tr>\n    <tr>\n      <th>1389716466195472388</th>\n      <td>Que gane el PP en un barrio obrero y pendient...</td>\n      <td>140</td>\n      <td>2021-05-04 22:59:59</td>\n      <td>Twitter for Android</td>\n      <td>0</td>\n      <td>0</td>\n    </tr>\n    <tr>\n      <th>1389716465390080002</th>\n      <td>Ahora sí, lo puedo decir, meteros los aplauso...</td>\n      <td>100</td>\n      <td>2021-05-04 22:59:59</td>\n      <td>Twitter for Android</td>\n      <td>0</td>\n      <td>0</td>\n    </tr>\n    <tr>\n      <th>1389716465205583877</th>\n      <td>Esta casa apoya a @Yolanda_Diaz_, encargada d...</td>\n      <td>140</td>\n      <td>2021-05-04 22:59:59</td>\n      <td>Twitter Web App</td>\n      <td>0</td>\n      <td>0</td>\n    </tr>\n    <tr>\n      <th>1389716462936412164</th>\n      <td>Qué asco tener que ver que los que pisotean e...</td>\n      <td>138</td>\n      <td>2021-05-04 22:59:59</td>\n      <td>Twitter for Android</td>\n      <td>0</td>\n      <td>0</td>\n    </tr>\n  </tbody>\n</table>\n</div>"
     },
     "metadata": {},
     "execution_count": 23
    }
   ],
   "source": [
    "# Eliminar la cadena 'RT' en los tweets para quedarnos con la información relevante\n",
    "data['Tweets'] = data['Tweets'].str.replace(r'RT.*:', '', regex=True)\n",
    "data.head()"
   ]
  },
  {
   "cell_type": "code",
   "execution_count": 24,
   "metadata": {},
   "outputs": [
    {
     "output_type": "execute_result",
     "data": {
      "text/plain": [
       "                                                                Tweets  len  \\\n",
       "ID                                                                            \n",
       "1389716466304491522   ‼ @Santi_ABASCAL \"Son unos buenos resultados ...  139   \n",
       "1389716466195472388   Que gane el PP en un barrio obrero y pendient...  140   \n",
       "1389716465390080002   Ahora sí, lo puedo decir, meteros los aplauso...  100   \n",
       "1389716465205583877   Esta casa apoya a @Yolanda_Diaz_, encargada d...  140   \n",
       "1389716462936412164   Qué asco tener que ver que los que pisotean e...  138   \n",
       "...                                                                ...  ...   \n",
       "1389716230307782656  Durante muchos años @CiudadanosCs jugó a la am...  140   \n",
       "1389716229296955394   La única lucha que se pierde es la que se aba...  140   \n",
       "1389716228743249921   Grupo de apoyo a #LxsPresxsPoliticxs manifies...  140   \n",
       "1389716228629954561                                     //t.co/RVKDJc…  140   \n",
       "1389716228265193477  Dejos los cargos pero sigo cobrando 5.000€ dur...  126   \n",
       "\n",
       "                                    Date               Source  Likes  RTs  \n",
       "ID                                                                         \n",
       "1389716466304491522  2021-05-04 22:59:59   Twitter for iPhone      0    0  \n",
       "1389716466195472388  2021-05-04 22:59:59  Twitter for Android      0    0  \n",
       "1389716465390080002  2021-05-04 22:59:59  Twitter for Android      0    0  \n",
       "1389716465205583877  2021-05-04 22:59:59      Twitter Web App      0    0  \n",
       "1389716462936412164  2021-05-04 22:59:59  Twitter for Android      0    0  \n",
       "...                                  ...                  ...    ...  ...  \n",
       "1389716230307782656  2021-05-04 22:59:03   Twitter for iPhone      2    0  \n",
       "1389716229296955394  2021-05-04 22:59:03   Twitter for iPhone      0    0  \n",
       "1389716228743249921  2021-05-04 22:59:03      Twitter Web App      0    0  \n",
       "1389716228629954561  2021-05-04 22:59:03  Twitter for Android      0    0  \n",
       "1389716228265193477  2021-05-04 22:59:03   Twitter for iPhone      0    0  \n",
       "\n",
       "[100 rows x 6 columns]"
      ],
      "text/html": "<div>\n<style scoped>\n    .dataframe tbody tr th:only-of-type {\n        vertical-align: middle;\n    }\n\n    .dataframe tbody tr th {\n        vertical-align: top;\n    }\n\n    .dataframe thead th {\n        text-align: right;\n    }\n</style>\n<table border=\"1\" class=\"dataframe\">\n  <thead>\n    <tr style=\"text-align: right;\">\n      <th></th>\n      <th>Tweets</th>\n      <th>len</th>\n      <th>Date</th>\n      <th>Source</th>\n      <th>Likes</th>\n      <th>RTs</th>\n    </tr>\n    <tr>\n      <th>ID</th>\n      <th></th>\n      <th></th>\n      <th></th>\n      <th></th>\n      <th></th>\n      <th></th>\n    </tr>\n  </thead>\n  <tbody>\n    <tr>\n      <th>1389716466304491522</th>\n      <td>‼ @Santi_ABASCAL \"Son unos buenos resultados ...</td>\n      <td>139</td>\n      <td>2021-05-04 22:59:59</td>\n      <td>Twitter for iPhone</td>\n      <td>0</td>\n      <td>0</td>\n    </tr>\n    <tr>\n      <th>1389716466195472388</th>\n      <td>Que gane el PP en un barrio obrero y pendient...</td>\n      <td>140</td>\n      <td>2021-05-04 22:59:59</td>\n      <td>Twitter for Android</td>\n      <td>0</td>\n      <td>0</td>\n    </tr>\n    <tr>\n      <th>1389716465390080002</th>\n      <td>Ahora sí, lo puedo decir, meteros los aplauso...</td>\n      <td>100</td>\n      <td>2021-05-04 22:59:59</td>\n      <td>Twitter for Android</td>\n      <td>0</td>\n      <td>0</td>\n    </tr>\n    <tr>\n      <th>1389716465205583877</th>\n      <td>Esta casa apoya a @Yolanda_Diaz_, encargada d...</td>\n      <td>140</td>\n      <td>2021-05-04 22:59:59</td>\n      <td>Twitter Web App</td>\n      <td>0</td>\n      <td>0</td>\n    </tr>\n    <tr>\n      <th>1389716462936412164</th>\n      <td>Qué asco tener que ver que los que pisotean e...</td>\n      <td>138</td>\n      <td>2021-05-04 22:59:59</td>\n      <td>Twitter for Android</td>\n      <td>0</td>\n      <td>0</td>\n    </tr>\n    <tr>\n      <th>...</th>\n      <td>...</td>\n      <td>...</td>\n      <td>...</td>\n      <td>...</td>\n      <td>...</td>\n      <td>...</td>\n    </tr>\n    <tr>\n      <th>1389716230307782656</th>\n      <td>Durante muchos años @CiudadanosCs jugó a la am...</td>\n      <td>140</td>\n      <td>2021-05-04 22:59:03</td>\n      <td>Twitter for iPhone</td>\n      <td>2</td>\n      <td>0</td>\n    </tr>\n    <tr>\n      <th>1389716229296955394</th>\n      <td>La única lucha que se pierde es la que se aba...</td>\n      <td>140</td>\n      <td>2021-05-04 22:59:03</td>\n      <td>Twitter for iPhone</td>\n      <td>0</td>\n      <td>0</td>\n    </tr>\n    <tr>\n      <th>1389716228743249921</th>\n      <td>Grupo de apoyo a #LxsPresxsPoliticxs manifies...</td>\n      <td>140</td>\n      <td>2021-05-04 22:59:03</td>\n      <td>Twitter Web App</td>\n      <td>0</td>\n      <td>0</td>\n    </tr>\n    <tr>\n      <th>1389716228629954561</th>\n      <td>//t.co/RVKDJc…</td>\n      <td>140</td>\n      <td>2021-05-04 22:59:03</td>\n      <td>Twitter for Android</td>\n      <td>0</td>\n      <td>0</td>\n    </tr>\n    <tr>\n      <th>1389716228265193477</th>\n      <td>Dejos los cargos pero sigo cobrando 5.000€ dur...</td>\n      <td>126</td>\n      <td>2021-05-04 22:59:03</td>\n      <td>Twitter for iPhone</td>\n      <td>0</td>\n      <td>0</td>\n    </tr>\n  </tbody>\n</table>\n<p>100 rows × 6 columns</p>\n</div>"
     },
     "metadata": {},
     "execution_count": 24
    }
   ],
   "source": [
    "# Eliminar saltos de línea y retorno para tenerlo todo en una frase\n",
    "data['Tweets'] = data['Tweets'].str.replace('\\n', '')\n",
    "data['Tweets'] = data['Tweets'].str.replace('\\r', '')\n"
   ]
  },
  {
   "cell_type": "code",
   "execution_count": null,
   "metadata": {},
   "outputs": [],
   "source": []
  }
 ]
}